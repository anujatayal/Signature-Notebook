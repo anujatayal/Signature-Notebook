{
 "cells": [
  {
   "cell_type": "code",
   "execution_count": 1,
   "metadata": {},
   "outputs": [],
   "source": [
    "def triplet_loss(y_true, y_pred, alpha = 0.2):  \n",
    "    anchor, positive, negative = y_pred[:,0], y_pred[:,1], y_pred[:,2]\n",
    "    print(anchor, positive, negative)\n",
    "    pos_dist = tf.reduce_sum(tf.square(anchor - positive))\n",
    "    neg_dist = tf.reduce_sum(tf.square(anchor - negative))\n",
    "    basic_loss = pos_dist - neg_dist + alpha\n",
    "    loss = tf.maximum(basic_loss, 0)\n",
    "    return loss"
   ]
  },
  {
   "cell_type": "code",
   "execution_count": 2,
   "metadata": {},
   "outputs": [
    {
     "name": "stdout",
     "output_type": "stream",
     "text": [
      "WARNING:tensorflow:From /home/anuja/.local/lib/python3.6/site-packages/tensorflow/python/ops/init_ops.py:1251: calling VarianceScaling.__init__ (from tensorflow.python.ops.init_ops) with dtype is deprecated and will be removed in a future version.\n",
      "Instructions for updating:\n",
      "Call initializer instance with the dtype argument instead of passing it to the constructor\n",
      "WARNING:tensorflow:No training configuration found in save file: the model was *not* compiled. Compile it manually.\n"
     ]
    }
   ],
   "source": [
    "import cv2\n",
    "import os\n",
    "import numpy as np\n",
    "import pandas as pd\n",
    "import tensorflow as tf\n",
    "#tf.enable_eager_execution()\n",
    "import numpy.linalg as lin\n",
    "import matplotlib.pyplot as plt\n",
    "%matplotlib inline\n",
    "\n",
    "from tensorflow.keras.models import Model,load_model\n",
    "#model=load_model('weights_siamese.hdf5')\n",
    "model =load_model('weights-siamese-v2.hdf5', custom_objects={'triplet_loss': triplet_loss})\n"
   ]
  },
  {
   "cell_type": "code",
   "execution_count": null,
   "metadata": {},
   "outputs": [],
   "source": [
    "model.summary()"
   ]
  },
  {
   "cell_type": "code",
   "execution_count": 13,
   "metadata": {},
   "outputs": [],
   "source": [
    "def read_image(i):\n",
    "    img1 = cv2.imread(data.loc[i,\"img\"])\n",
    "    img1 = cv2.resize(img1, (220,150))\n",
    "    img1 = np.moveaxis(np.array([cv2.cvtColor(img1, cv2.COLOR_BGR2GRAY)]),0,-1)\n",
    "    return (img1/255.).astype('float32')\n",
    "    return img1\n",
    "    \n",
    "def show_image(img1,i):\n",
    "    plt.imshow(np.squeeze(img1))\n",
    "    plt.title(i)\n",
    "def read_image_path(path):\n",
    "    img1 = cv2.imread(path)\n",
    "    img1 = cv2.resize(img1, (220,150))\n",
    "    img1 = np.moveaxis(np.array([cv2.cvtColor(img1, cv2.COLOR_BGR2GRAY)]),0,-1)\n",
    "    return (img1/255.).astype('float32')\n",
    "    return img1\n"
   ]
  },
  {
   "cell_type": "code",
   "execution_count": 4,
   "metadata": {},
   "outputs": [],
   "source": [
    "def img_to_encoding(img, model):\n",
    "    x_train = np.array([img])\n",
    "    embedding = model.predict_on_batch(x_train)\n",
    "    return embedding\n"
   ]
  },
  {
   "cell_type": "code",
   "execution_count": 10,
   "metadata": {},
   "outputs": [],
   "source": [
    "#data=pd.read_csv('signatures.csv')\n",
    "data=pd.read_csv('sig_test.csv')\n"
   ]
  },
  {
   "cell_type": "code",
   "execution_count": null,
   "metadata": {},
   "outputs": [],
   "source": [
    "data"
   ]
  },
  {
   "cell_type": "code",
   "execution_count": null,
   "metadata": {},
   "outputs": [],
   "source": [
    "# for i in range(len(data)):\n",
    "#     emb=img_to_encoding(i,model)\n",
    "#     print(data.loc[i,\"img\",],lin.norm(emb))"
   ]
  },
  {
   "cell_type": "code",
   "execution_count": 11,
   "metadata": {},
   "outputs": [
    {
     "name": "stdout",
     "output_type": "stream",
     "text": [
      "../test/a1.png 0.069385156\n",
      "../test/a2.png 0.06924613\n",
      "../test/b1.png 0.07051587\n",
      "../test/b2.png 0.06914453\n",
      "../test/e1.png 0.052922945\n",
      "../test/e2.png 0.05441303\n",
      "../test/ef1.png 0.06705394\n",
      "../test/f1.png 0.049554694\n",
      "../test/f2.png 0.05061911\n",
      "../test/gf1.jpg 0.06584027\n",
      "../test/gf2.png 0.0613857\n",
      "../test/h1.png 0.055251602\n",
      "../test/h2.png 0.056013823\n",
      "../test/hf1.png 0.060914412\n",
      "../test/i1.png 0.054798827\n",
      "../test/i2.png 0.054389235\n",
      "../test/j1.png 0.052823346\n",
      "../test/j2.png 0.057124972\n",
      "../test/k2.png 0.06482461\n",
      "../test/k3.png 0.06311125\n",
      "../test/j2.png 0.057124972\n",
      "../test/l1.png 0.053107347\n",
      "../test/m1.png 0.07502151\n",
      "../test/m2.png 0.07514639\n",
      "../test/m3.png 0.07457736\n"
     ]
    }
   ],
   "source": [
    "database={}\n",
    "for i in range(len(data)):\n",
    "    img=read_image(i)\n",
    "    emb=img_to_encoding(img,model)\n",
    "    print(data.loc[i,\"img\"],lin.norm(emb))\n",
    "    database[data.loc[i,\"img\"]]=emb"
   ]
  },
  {
   "cell_type": "code",
   "execution_count": 23,
   "metadata": {},
   "outputs": [
    {
     "data": {
      "text/plain": [
       "0.9976630250457674"
      ]
     },
     "execution_count": 23,
     "metadata": {},
     "output_type": "execute_result"
    }
   ],
   "source": [
    "1-i[0]"
   ]
  },
  {
   "cell_type": "code",
   "execution_count": null,
   "metadata": {},
   "outputs": [],
   "source": [
    "sorted(sort_list)[:3]"
   ]
  },
  {
   "cell_type": "code",
   "execution_count": 31,
   "metadata": {},
   "outputs": [
    {
     "name": "stdout",
     "output_type": "stream",
     "text": [
      "../test/m3.png 1.0\n",
      "../test/m1.png 0.9976630250457674\n",
      "../test/m2.png 0.9967722652945668\n"
     ]
    }
   ],
   "source": [
    "import random\n",
    "img_path=\"/home/anuja/Downloads/signature_dataset/test/m3.png\"\n",
    "img=read_image_path(img_path)\n",
    "emb=img_to_encoding(img,model)\n",
    "#print(data.loc[i,\"img\"])\n",
    "match_file=\"\"\n",
    "min_dist=100\n",
    "sort_list=[]\n",
    "for j in range(len(database)):\n",
    "    dist = np.linalg.norm(list(database.values())[j]-emb)\n",
    "    dist = np.array(dist)\n",
    "    sort_list.append([dist,list(database.keys())[j]])\n",
    "#print(j,dist,list(database.keys())[j])\n",
    "for i in sorted(sort_list)[:3]:\n",
    "    #print(i)\n",
    "    print(i[1],1-i[0])\n",
    "\n"
   ]
  },
  {
   "cell_type": "code",
   "execution_count": null,
   "metadata": {
    "scrolled": false
   },
   "outputs": [],
   "source": [
    "for i in range(22,len(data)):\n",
    "    img=read_image(i)\n",
    "    emb=img_to_encoding(img,model)\n",
    "    for j in range(len(data)):\n",
    "        img2=read_image(j)\n",
    "        emb1=img_to_encoding(img2,model)\n",
    "        print(data.loc[i,\"img\"],data.loc[j,\"img\"],lin.norm(emb-emb1))"
   ]
  },
  {
   "cell_type": "code",
   "execution_count": null,
   "metadata": {},
   "outputs": [],
   "source": [
    "kernel_sharpening = np.array([[0,-1,0], \n",
    "                              [-1, 5,-1],\n",
    "                              [0,-1,0]])\n",
    "denoise = np.array([[0,-1,0], \n",
    "                              [-1, 5,-1],\n",
    "                              [0,-1,0]])\n"
   ]
  },
  {
   "cell_type": "code",
   "execution_count": null,
   "metadata": {},
   "outputs": [],
   "source": [
    "img1 = cv2.imread('../test/2_pan.jpg')\n",
    "#img1 = cv2.resize(img1, (220,150))\n",
    "img1 = cv2.resize(img1, (220,150))\n",
    "plt.subplot(141), plt.imshow(img1) \n",
    "#show_hist(img1)\n",
    "#img1=img1*2\n",
    "#img1,table=adjust_gamma(img1)\n",
    "#show_image(img1,\"1_pan\")\n",
    "kernel = np.ones((1,1))  \n",
    "img1 = cv2.filter2D(img1, -1, kernel_sharpening)\n",
    "#img1 = cv2.fastNlMeansDenoisingColored(img, None, 10, 10, 7, 15) \n",
    "plt.subplot(142), plt.imshow(img1) \n",
    "img1 = cv2.blur(img1,(2,2))\n",
    "#img1 = cv2.medianBlur(img1,5)\n",
    "plt.subplot(143), plt.imshow(img1) \n",
    "\n",
    "#img1 = cv2.dilate(img1, kernel, iterations=1) \n",
    "img1 = np.moveaxis(np.array([cv2.cvtColor(img1, cv2.COLOR_BGR2GRAY)]),0,-1)\n",
    "img1=(img1/255.).astype('float32')\n",
    "#img1 = 0.1 * (np.log(1 + np.float32(img1)))# print(img1.shape)\n",
    "# print(img1.shape)\n",
    "emb2=img_to_encoding(img1,model)\n",
    "print(lin.norm(emb-emb2))\n",
    "# show_hist(img1)\n",
    "#show_image(img1,\"2_pan\")\n",
    "plt.subplot(144), plt.imshow(np.squeeze(img1)) \n",
    "plt.show() "
   ]
  },
  {
   "cell_type": "code",
   "execution_count": null,
   "metadata": {},
   "outputs": [],
   "source": [
    "def show_hist(img):\n",
    "    plt.hist(img.ravel(),256,[0,255])\n",
    "    plt.xlim(xmin=0,xmax=256)\n",
    "    plt.show    \n",
    "def adjust_gamma(image, gamma=1.0):\n",
    "    # build a lookup table mapping the pixel values [0, 255] to \n",
    "    # their adjusted gamma values\n",
    "    invGamma = 1.0 / gamma\n",
    "    table = np.array([((i / 255.0) ** invGamma) * 255\n",
    "        for i in np.arange(0, 256)]).astype(\"uint8\")\n",
    " \n",
    "    # apply gamma correction using the lookup table\n",
    "    return cv2.LUT(image, table)"
   ]
  },
  {
   "cell_type": "code",
   "execution_count": null,
   "metadata": {},
   "outputs": [],
   "source": [
    "img1 = cv2.imread('../test/2_pan.jpg')\n",
    "img1 = cv2.resize(img1, (220,150))\n",
    "img1 = np.moveaxis(np.array([cv2.cvtColor(img1, cv2.COLOR_BGR2GRAY)]),0,-1)\n",
    "img1=(img1/255.).astype('float32')\n",
    "emb=img_to_encoding(img1,model)\n",
    "print(img1.shape)\n",
    "show_image(img1,\"2_sig\")"
   ]
  },
  {
   "cell_type": "code",
   "execution_count": null,
   "metadata": {},
   "outputs": [],
   "source": [
    "img1 = cv2.imread('../test/1_pan.jpg')\n",
    "img1 = cv2.resize(img1, (220,150))\n",
    "img1 = np.moveaxis(np.array([cv2.cvtColor(img1, cv2.COLOR_BGR2GRAY)]),0,-1)\n",
    "img1=(img1/255.).astype('float32')\n",
    "emb=img_to_encoding(img1,model)\n",
    "print(img1.shape)\n",
    "show_image(img1,\"2_sig\")"
   ]
  },
  {
   "cell_type": "code",
   "execution_count": null,
   "metadata": {},
   "outputs": [],
   "source": [
    "lin.norm(database['../test/1_sig.jpg'])"
   ]
  },
  {
   "cell_type": "code",
   "execution_count": null,
   "metadata": {},
   "outputs": [],
   "source": [
    "lin.norm(emb)"
   ]
  },
  {
   "cell_type": "code",
   "execution_count": null,
   "metadata": {},
   "outputs": [],
   "source": [
    "database['../test/1_sig.jpg']"
   ]
  },
  {
   "cell_type": "code",
   "execution_count": null,
   "metadata": {},
   "outputs": [],
   "source": []
  },
  {
   "cell_type": "code",
   "execution_count": null,
   "metadata": {},
   "outputs": [],
   "source": [
    "lin.norm(emb)"
   ]
  },
  {
   "cell_type": "code",
   "execution_count": null,
   "metadata": {},
   "outputs": [],
   "source": []
  }
 ],
 "metadata": {
  "kernelspec": {
   "display_name": "Python 3",
   "language": "python",
   "name": "python3"
  },
  "language_info": {
   "codemirror_mode": {
    "name": "ipython",
    "version": 3
   },
   "file_extension": ".py",
   "mimetype": "text/x-python",
   "name": "python",
   "nbconvert_exporter": "python",
   "pygments_lexer": "ipython3",
   "version": "3.6.2"
  }
 },
 "nbformat": 4,
 "nbformat_minor": 2
}
