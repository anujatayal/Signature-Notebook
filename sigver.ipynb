{
 "cells": [
  {
   "cell_type": "code",
   "execution_count": null,
   "metadata": {},
   "outputs": [],
   "source": [
    "import numpy as np\n",
    "#import functools\n",
    "#from tqdm import tqdm\n",
    "from typing import Tuple, Callable, Dict, Union\n",
    "import numpy as np\n",
    "#from skimage import filters, transform\n",
    "#from typing import Tuple\n",
    "from abc import ABC, abstractmethod\n",
    "from typing import List, Iterable, Tuple\n",
    "#import numpy as np\n",
    "#import argparse\n",
    "from sklearn.preprocessing import LabelEncoder\n",
    "#from collections import OrderedDict\n",
    "from tensorflow.keras.utils import plot_model\n",
    "from tensorflow.keras.models import Sequential\n",
    "from tensorflow.keras.layers import Conv2D, ZeroPadding2D, Activation, Input, concatenate\n",
    "from tensorflow.keras.models import Model\n",
    "from tensorflow.keras.layers import MaxPooling2D, AveragePooling2D\n",
    "from tensorflow.keras.layers import Concatenate\n",
    "from tensorflow.keras.layers import Lambda, Flatten, Dense\n",
    "from tensorflow.keras.initializers import glorot_uniform\n",
    "from tensorflow.keras.callbacks import ModelCheckpoint, TensorBoard\n",
    "from tensorflow.keras.layers import Dense, Dropout, Input, Lambda, Flatten, Convolution2D, MaxPooling2D, ZeroPadding2D\n",
    "from tensorflow.keras.preprocessing import image\n",
    "from tensorflow.keras.layers import BatchNormalization\n",
    "from tensorflow.keras import backend as K\n",
    "from tensorflow.keras.regularizers import l2\n",
    "from tensorflow.keras.preprocessing.image import ImageDataGenerator\n",
    "from tensorflow.keras.losses import categorical_crossentropy,binary_crossentropy\n",
    "from tensorflow.keras.optimizers import RMSprop\n",
    "import matplotlib.pyplot as plt\n",
    "import cv2\n",
    "import os\n",
    "import numpy as np\n",
    "from numpy import genfromtxt\n",
    "import pandas as pd\n",
    "import tensorflow as tf\n",
    "#from fr_utils import *\n",
    "#from inception_blocks_v2 import *\n",
    "# import sys\n",
    "# import glob\n",
    "# import logging\n",
    "# #from keras.models import Sequential, Model\n",
    "# import random\n",
    "# from skimage.io import imread\n",
    "# from skimage import img_as_ubyte\n",
    "# import warnings\n",
    "# warnings.filterwarnings('ignore')\n"
   ]
  },
  {
   "cell_type": "code",
   "execution_count": null,
   "metadata": {},
   "outputs": [],
   "source": [
    "class IterableDataset(ABC):\n",
    "    @property\n",
    "    def maxsize(self):\n",
    "        raise NotImplementedError\n",
    "    @property\n",
    "    def genuine_per_user(self):\n",
    "        raise NotImplementedError\n",
    "    @property\n",
    "    def skilled_per_user(self):\n",
    "        raise NotImplementedError\n",
    "    @property\n",
    "    \n",
    "    def simple_per_user(self):\n",
    "        raise NotImplementedError\n",
    "    @abstractmethod\n",
    "    def get_user_list(self) -> List[int]:\n",
    "        pass\n",
    "    @abstractmethod\n",
    "    def iter_genuine(self, user: int) -> Iterable[Tuple[np.ndarray, str]]:\n",
    "        pass\n",
    "    @abstractmethod\n",
    "    def iter_simple_forgery(self, user: int) -> Iterable[Tuple[np.ndarray, str]]:\n",
    "        pass\n",
    "\n",
    "    @abstractmethod\n",
    "    def iter_forgery(self, user: int) -> Iterable[Tuple[np.ndarray, str]]:\n",
    "        pass\n",
    "# tf.enable_eager_execution()\n",
    "class CedarDataset(IterableDataset):\n",
    "    \"\"\" Helper class to load the CEDAR dataset\n",
    "    \"\"\"\n",
    "    def __init__(self, path):\n",
    "        self.path = path\n",
    "        self.users = list(range(1, 55+1))\n",
    "\n",
    "    @property\n",
    "    def genuine_per_user(self):\n",
    "        return 24\n",
    "\n",
    "    @property\n",
    "    def skilled_per_user(self):\n",
    "        return 24\n",
    "\n",
    "    @property\n",
    "    def simple_per_user(self):\n",
    "        return 0\n",
    "\n",
    "    @property\n",
    "    def maxsize(self):\n",
    "        return 730, 1042\n",
    "\n",
    "    def get_user_list(self):\n",
    "        return self.users\n",
    "\n",
    "    def iter_genuine(self, user):\n",
    "        \"\"\" Iterate over genuine signatures for the given user\"\"\"\n",
    "\n",
    "        files = ['{}_{}_{}.png'.format('original', user, img) for img in range(1, 24 + 1)]\n",
    "        for f in files:\n",
    "            full_path = os.path.join(self.path, 'full_org', f)\n",
    "            img = imread(full_path, as_gray=True)\n",
    "            yield img_as_ubyte(img), f\n",
    "\n",
    "    def iter_forgery(self, user):\n",
    "        \"\"\" Iterate over skilled forgeries for the given user\"\"\"\n",
    "\n",
    "        files = ['{}_{}_{}.png'.format('forgeries', user, img) for img in range(1, 24 + 1)]\n",
    "        for f in files:\n",
    "            full_path = os.path.join(self.path, 'full_forg', f)\n",
    "            img = imread(full_path, as_gray=True)\n",
    "            yield img_as_ubyte(img), f\n",
    "\n",
    "    def iter_simple_forgery(self, user):\n",
    "        yield from ()  # No simple forgeries\n"
   ]
  },
  {
   "cell_type": "code",
   "execution_count": null,
   "metadata": {},
   "outputs": [],
   "source": [
    "#path=\"/home/anuja/Downloads/signature_dataset/signatures/\"\n",
    "#npzpath=\"/home/anuja/Downloads/signature_dataset/signatures/signature.npz\"\n",
    "img_height = 150\n",
    "img_width = 220\n",
    "featurewise_std_normalization = True\n",
    "batch_size = 5    \n",
    "epochs=20\n",
    "seed=42\n",
    "input_shape=(img_height, img_width,1)\n",
    "lamb = 0.95\n",
    "#checkpoint=#pth_file\n",
    "model=CedarDataset\n",
    "users=55\n",
    "#checkpointer = ModelCheckpoint(filepath=\"weights.{epoch:02d}-{val_loss:.2f}.hdf5\",verbose=1, save_best_only=False,save_weights_only=False,save_freq=1)\n",
    "checkpointer = ModelCheckpoint(filepath=\"weights.hdf5\",monitor='val_loss', mode='min',verbose=1, save_best_only=True,save_weights_only=False)\n",
    "#earlystoppetrain_file=\"/home/anuja/Downloads/signature_dataset/signatures/train_signature.npz\"\n",
    "test_file=\"/home/anuja/Downloads/signature_dataset/signatures/test_signature.npz\"\n",
    "#r = EarlyStopping(monitor='val_loss', min_delta=0,patience=4, verbose=1, mode='auto')\n",
    "lr=0.001\n",
    "lr_decay_multiplier=0.1\n",
    "lr_decay_times=0.1\n",
    "momentum=0.9\n",
    "weight_decay=1e-4\n",
    "epochs=20\n",
    "seed=42\n",
    "loss_type=\"L2\"\n",
    "forg=True\n",
    "test=False #if true then it will test after loading the model \n",
    "input_size=(150,220)\n",
    "#lamb in {0.95,0.99,0.999}\n",
    "#checkpoint=#pth_file\n",
    "lamb = 0.95\n",
    "#checkpoint=#pth_file\n",
    "model=CedarDataset\n",
    "users=55\n",
    "#no_images=10\n",
    "n_classes=55\n"
   ]
  },
  {
   "cell_type": "code",
   "execution_count": null,
   "metadata": {},
   "outputs": [],
   "source": [
    "data=pd.read_csv('/home/anuja/Downloads/signature_dataset/signatures.csv')\n",
    "data=data.sample(frac=1).reset_index(drop=True)\n"
   ]
  },
  {
   "cell_type": "code",
   "execution_count": null,
   "metadata": {},
   "outputs": [],
   "source": []
  },
  {
   "cell_type": "code",
   "execution_count": null,
   "metadata": {
    "scrolled": true
   },
   "outputs": [],
   "source": [
    "-"
   ]
  },
  {
   "cell_type": "code",
   "execution_count": null,
   "metadata": {},
   "outputs": [],
   "source": [
    "input_shape"
   ]
  },
  {
   "cell_type": "code",
   "execution_count": null,
   "metadata": {},
   "outputs": [],
   "source": [
    "K.set_image_data_format('channels_last')\n",
    "inputs1 = Input(shape=input_shape)\n",
    "x=Conv2D(96, (11, 11), activation='relu', name='conv1_1', strides=(4,4), input_shape= input_shape, \n",
    "                    kernel_initializer='glorot_uniform')(inputs1)\n",
    "x=BatchNormalization(epsilon=1e-06, axis=-1, momentum=0.9)(x)\n",
    "x=MaxPooling2D((3,3), strides=(2, 2))(x)    \n",
    "#x=ZeroPadding2D((2, 2),))\n",
    "x=Conv2D(256, (5, 5), activation='relu', name='conv2_1', strides=(1, 1), kernel_initializer='glorot_uniform')(x)\n",
    "x=BatchNormalization(epsilon=1e-06, axis=-1, momentum=0.9)(x)\n",
    "x=MaxPooling2D((3,3), strides=(2, 2))(x)\n",
    "#x=Dropout(0.3))# added extra\n",
    "#x=ZeroPadding2D((1, 1)))\n",
    "x=Conv2D(384, (3, 3), activation='relu', name='conv3_1', strides=(1, 1), kernel_initializer='glorot_uniform')(x)\n",
    "x=BatchNormalization(epsilon=1e-06, axis=-1, momentum=0.9)(x)\n",
    "x=Conv2D(384, (3, 3), activation='relu', name='conv3_2', strides=(1, 1), kernel_initializer='glorot_uniform')(x)\n",
    "x=BatchNormalization(epsilon=1e-06, axis=-1, momentum=0.9)(x)\n",
    "#x=ZeroPadding2D((1, 1)))\n",
    "x=Conv2D(256, (3, 3), activation='relu', name='conv3_3', strides=(1, 1), kernel_initializer='glorot_uniform')(x)    \n",
    "x=MaxPooling2D((3,3), strides=(2, 2))(x)\n",
    "#x=Dropout(0.3))# added extra\n",
    "x=Flatten(name='flatten')(x)\n",
    "#x=Dense(2048, kernel_regularizer=l2(0.0005), activation='relu', kernel_initializer='glorot_uniform')(x)\n",
    "#x=BatchNormalization(epsilon=1e-06, axis=-1, momentum=0.9)(x)\n",
    "#x=Dropout(0.5))\n",
    "last_features=Dense(1024, kernel_regularizer=l2(0.0005), activation='relu', kernel_initializer='glorot_uniform')(x) # softmax changed to relu\n",
    "#last_features=BatchNormalization(epsilon=1e-06, axis=-1, momentum=0.9)(x)\n",
    "classification_tensor=Dense(n_classes,activation='softmax',name='user')(last_features)\n",
    "forg_tensor=Dense(1,activation='sigmoid',name='forge')(last_features)\n"
   ]
  },
  {
   "cell_type": "code",
   "execution_count": null,
   "metadata": {},
   "outputs": [],
   "source": [
    "def generator_wrapper(generator):\n",
    "    for batch_x,batch_y in generator:\n",
    "        yield (batch_x,[batch_y[:,i] for i in range(2)])"
   ]
  },
  {
   "cell_type": "code",
   "execution_count": null,
   "metadata": {},
   "outputs": [],
   "source": [
    "model1 = Model(inputs = inputs1, outputs =[classification_tensor,forg_tensor])\n"
   ]
  },
  {
   "cell_type": "code",
   "execution_count": null,
   "metadata": {},
   "outputs": [],
   "source": [
    "print(model1.summary())"
   ]
  },
  {
   "cell_type": "code",
   "execution_count": null,
   "metadata": {},
   "outputs": [],
   "source": [
    "adam_optimizer = tf.keras.optimizers.Adam(lr=0.0001,amsgrad=True)"
   ]
  },
  {
   "cell_type": "code",
   "execution_count": null,
   "metadata": {},
   "outputs": [],
   "source": [
    "lossWeights = {\"user\": 0.05, \"forge\": 0.95}\n",
    "model1.compile(loss={'user':'sparse_categorical_crossentropy','forge':'binary_crossentropy'},loss_weights=lossWeights, optimizer='adam', metrics=['accuracy'])\n"
   ]
  },
  {
   "cell_type": "code",
   "execution_count": null,
   "metadata": {},
   "outputs": [],
   "source": [
    "from tensorflow.keras.preprocessing.image import ImageDataGenerator, load_img, array_to_img, img_to_array\n",
    "#train_datagen = ImageDataGenerator(rescale=1./255,shear_range=0.2,oom_range=0.2,horizontal_flip=True)\n",
    "train_datagen = ImageDataGenerator()\n",
    "train_generator=train_datagen.flow_from_dataframe(dataframe=data[:2000],directory=\"./signatures/\",x_col=\"img\",color_mode='grayscale',\n",
    "y_col=[\"user\",\"yforg\"],batch_size=5,seed=42,shuffle=True,class_mode=\"other\",target_size=input_size)\n",
    "test_generator=train_datagen.flow_from_dataframe(dataframe=data[2000:],directory=\"./signatures/\",x_col=\"img\",color_mode='grayscale',\n",
    "y_col=[\"user\",\"yforg\"],batch_size=5,seed=42,shuffle=True,class_mode=\"other\",target_size=input_size)"
   ]
  },
  {
   "cell_type": "code",
   "execution_count": null,
   "metadata": {},
   "outputs": [],
   "source": [
    "history=model1.fit_generator(generator=generator_wrapper(train_generator),validation_data=generator_wrapper(test_generator),validation_steps=128,epochs=5,shuffle=True,steps_per_epoch=400,verbose=1,callbacks=[checkpointer])\n",
    "\n"
   ]
  },
  {
   "cell_type": "code",
   "execution_count": null,
   "metadata": {},
   "outputs": [],
   "source": [
    "batch_size"
   ]
  },
  {
   "cell_type": "code",
   "execution_count": null,
   "metadata": {},
   "outputs": [],
   "source": [
    "user1_sigs  = [load_signature('data/b{}.png'.format(i)) for i in  [1,2]]\n",
    "user2_sigs  = [load_signature('data/d{}.png'.format(i)) for i in  [1,2]]            "
   ]
  },
  {
   "cell_type": "code",
   "execution_count": null,
   "metadata": {},
   "outputs": [],
   "source": [
    "def load_signature(path):\n",
    "    return img_as_ubyte(imread(path, as_gray=True))"
   ]
  },
  {
   "cell_type": "code",
   "execution_count": null,
   "metadata": {},
   "outputs": [],
   "source": [
    "normalized = 255 - normalize_image(original, (952, 1360))\n",
    "resized = resize_image(normalized, (170, 242))\n",
    "cropped = crop_center(resized, (150,220))"
   ]
  },
  {
   "cell_type": "code",
   "execution_count": null,
   "metadata": {},
   "outputs": [],
   "source": [
    "\n"
   ]
  },
  {
   "cell_type": "code",
   "execution_count": null,
   "metadata": {},
   "outputs": [],
   "source": [
    "print(torch.norm(user1_features[0] - user1_features[1]))\n"
   ]
  },
  {
   "cell_type": "code",
   "execution_count": null,
   "metadata": {},
   "outputs": [],
   "source": [
    "print('Euclidean distance between signatures from different users')\n",
    "\n",
    "dists = [torch.norm(u1 - u2).item() for u1 in user1_features for u2 in user2_features]\n",
    "print(dists)"
   ]
  }
 ],
 "metadata": {
  "kernelspec": {
   "display_name": "Python 3",
   "language": "python",
   "name": "python3"
  },
  "language_info": {
   "codemirror_mode": {
    "name": "ipython",
    "version": 3
   },
   "file_extension": ".py",
   "mimetype": "text/x-python",
   "name": "python",
   "nbconvert_exporter": "python",
   "pygments_lexer": "ipython3",
   "version": "3.6.2"
  }
 },
 "nbformat": 4,
 "nbformat_minor": 2
}
